{
 "cells": [
  {
   "cell_type": "markdown",
   "metadata": {},
   "source": [
    "### Splitting Data For Training:\n",
    "\n",
    "- Train: 70%,\n",
    "- Val: 10%,\n",
    "- Test: 20%"
   ]
  },
  {
   "cell_type": "code",
   "execution_count": 1,
   "metadata": {},
   "outputs": [],
   "source": [
    "import os\n",
    "import numpy as np\n",
    "import pandas as pd\n",
    "\n",
    "import matplotlib.pyplot as plt\n",
    "import seaborn as sns\n",
    "\n",
    "from pathlib import Path\n",
    "from sklearn.model_selection import train_test_split\n",
    "\n",
    "from config import DATA_FOLDER\n",
    "\n",
    "BASE_PATH = Path(\"..\")\n",
    "data_path = BASE_PATH.joinpath(DATA_FOLDER)\n",
    "images_path = data_path / \"images\""
   ]
  },
  {
   "cell_type": "code",
   "execution_count": 2,
   "metadata": {},
   "outputs": [],
   "source": [
    "X = []\n",
    "y = []\n",
    "\n",
    "for root, dirs, files in os.walk(images_path):\n",
    "    for file in files:\n",
    "        X.append(Path(Path(root).name) / file)\n",
    "        y.append(Path(root).name)"
   ]
  },
  {
   "cell_type": "code",
   "execution_count": 3,
   "metadata": {},
   "outputs": [],
   "source": [
    "X_train, X_test, y_train, y_test = train_test_split(X, y, test_size=0.2, random_state=42, stratify=y)\n",
    "X_train, X_val, y_train, y_val = train_test_split(X_train, y_train, test_size=0.125, random_state=42, stratify=y_train) # 0.125 * 0.8 = 0.1"
   ]
  },
  {
   "cell_type": "code",
   "execution_count": 4,
   "metadata": {},
   "outputs": [],
   "source": [
    "classes = ['cane','cavallo','elefante','farfalla','gallina','gatto','mucca','pecora','ragno','scoiattolo']\n",
    "\n",
    "def convert_labels(labels, classes):\n",
    "    return [classes.index(label) for label in labels]"
   ]
  },
  {
   "cell_type": "code",
   "execution_count": 5,
   "metadata": {},
   "outputs": [],
   "source": [
    "train_df = pd.DataFrame()\n",
    "train_df['filename'] = X_train\n",
    "train_df['label'] = convert_labels(y_train, classes)\n",
    "train_df.to_csv(data_path / 'train.csv', index=False)\n",
    "\n",
    "val_df = pd.DataFrame()\n",
    "val_df['filename'] = X_val\n",
    "val_df['label'] = convert_labels(y_val, classes)\n",
    "val_df.to_csv(data_path / 'val.csv', index=False)\n",
    "\n",
    "test_df = pd.DataFrame()\n",
    "test_df['filename'] = X_test\n",
    "test_df['label'] = convert_labels(y_test, classes)\n",
    "test_df.to_csv(data_path / 'test.csv', index=False)"
   ]
  },
  {
   "cell_type": "code",
   "execution_count": 6,
   "metadata": {},
   "outputs": [],
   "source": [
    "new_train_df = train_df.copy()\n",
    "new_train_df['label'] = [classes[label_idx] for label_idx in new_train_df['label']]"
   ]
  },
  {
   "cell_type": "code",
   "execution_count": 7,
   "metadata": {},
   "outputs": [
    {
     "data": {
      "text/html": [
       "<div>\n",
       "<style scoped>\n",
       "    .dataframe tbody tr th:only-of-type {\n",
       "        vertical-align: middle;\n",
       "    }\n",
       "\n",
       "    .dataframe tbody tr th {\n",
       "        vertical-align: top;\n",
       "    }\n",
       "\n",
       "    .dataframe thead th {\n",
       "        text-align: right;\n",
       "    }\n",
       "</style>\n",
       "<table border=\"1\" class=\"dataframe\">\n",
       "  <thead>\n",
       "    <tr style=\"text-align: right;\">\n",
       "      <th></th>\n",
       "      <th>label</th>\n",
       "      <th>count %</th>\n",
       "    </tr>\n",
       "  </thead>\n",
       "  <tbody>\n",
       "    <tr>\n",
       "      <th>0</th>\n",
       "      <td>cane</td>\n",
       "      <td>0.185757</td>\n",
       "    </tr>\n",
       "    <tr>\n",
       "      <th>1</th>\n",
       "      <td>ragno</td>\n",
       "      <td>0.184175</td>\n",
       "    </tr>\n",
       "    <tr>\n",
       "      <th>2</th>\n",
       "      <td>gallina</td>\n",
       "      <td>0.118308</td>\n",
       "    </tr>\n",
       "    <tr>\n",
       "      <th>3</th>\n",
       "      <td>cavallo</td>\n",
       "      <td>0.100191</td>\n",
       "    </tr>\n",
       "    <tr>\n",
       "      <th>4</th>\n",
       "      <td>farfalla</td>\n",
       "      <td>0.080709</td>\n",
       "    </tr>\n",
       "    <tr>\n",
       "      <th>5</th>\n",
       "      <td>mucca</td>\n",
       "      <td>0.071269</td>\n",
       "    </tr>\n",
       "    <tr>\n",
       "      <th>6</th>\n",
       "      <td>scoiattolo</td>\n",
       "      <td>0.071160</td>\n",
       "    </tr>\n",
       "    <tr>\n",
       "      <th>7</th>\n",
       "      <td>pecora</td>\n",
       "      <td>0.069523</td>\n",
       "    </tr>\n",
       "    <tr>\n",
       "      <th>8</th>\n",
       "      <td>gatto</td>\n",
       "      <td>0.063683</td>\n",
       "    </tr>\n",
       "    <tr>\n",
       "      <th>9</th>\n",
       "      <td>elefante</td>\n",
       "      <td>0.055225</td>\n",
       "    </tr>\n",
       "  </tbody>\n",
       "</table>\n",
       "</div>"
      ],
      "text/plain": [
       "        label   count %\n",
       "0        cane  0.185757\n",
       "1       ragno  0.184175\n",
       "2     gallina  0.118308\n",
       "3     cavallo  0.100191\n",
       "4    farfalla  0.080709\n",
       "5       mucca  0.071269\n",
       "6  scoiattolo  0.071160\n",
       "7      pecora  0.069523\n",
       "8       gatto  0.063683\n",
       "9    elefante  0.055225"
      ]
     },
     "execution_count": 7,
     "metadata": {},
     "output_type": "execute_result"
    }
   ],
   "source": [
    "df = new_train_df['label'].value_counts(normalize=True).rename('count %').reset_index()\n",
    "df"
   ]
  },
  {
   "cell_type": "code",
   "execution_count": 8,
   "metadata": {},
   "outputs": [
    {
     "data": {
      "image/png": "[encoded data removed]",
      "text/plain": [
       "<Figure size 800x500 with 1 Axes>"
      ]
     },
     "metadata": {},
     "output_type": "display_data"
    }
   ],
   "source": [
    "plt.figure(figsize=(8,5))\n",
    "sns.barplot(x = df['label'], y = df['count %'] * 100, hue=df['label'])\n",
    "plt.show()"
   ]
  }
 ],
 "metadata": {
  "kernelspec": {
   "display_name": "venv",
   "language": "python",
   "name": "python3"
  },
  "language_info": {
   "codemirror_mode": {
    "name": "ipython",
    "version": 3
   },
   "file_extension": ".py",
   "mimetype": "text/x-python",
   "name": "python",
   "nbconvert_exporter": "python",
   "pygments_lexer": "ipython3",
   "version": "3.11.0rc1"
  }
 },
 "nbformat": 4,
 "nbformat_minor": 2
}
