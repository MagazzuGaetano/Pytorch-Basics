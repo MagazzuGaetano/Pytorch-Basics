{
 "cells": [
  {
   "cell_type": "code",
   "execution_count": 1,
   "metadata": {},
   "outputs": [],
   "source": [
    "import os\n",
    "import numpy as np\n",
    "import pandas as pd\n",
    "\n",
    "from pathlib import Path\n",
    "from sklearn.model_selection import train_test_split\n",
    "\n",
    "from config import DATA_FOLDER\n",
    "\n",
    "BASE_PATH = Path(\"..\")\n",
    "data_path = BASE_PATH.joinpath(DATA_FOLDER)\n",
    "images_path = Path(data_path) / \"images\""
   ]
  },
  {
   "cell_type": "code",
   "execution_count": 2,
   "metadata": {},
   "outputs": [],
   "source": [
    "X = []\n",
    "y = []\n",
    "\n",
    "for root, dirs, files in os.walk(images_path):\n",
    "    for file in files:\n",
    "        X.append(Path(Path(root).name) / file)\n",
    "        y.append(Path(root).name)"
   ]
  },
  {
   "cell_type": "code",
   "execution_count": 3,
   "metadata": {},
   "outputs": [],
   "source": [
    "X_train, X_test, y_train, y_test = train_test_split(X, y, test_size=0.2, random_state=42, stratify=y)\n",
    "X_train, X_val, y_train, y_val = train_test_split(X_train, y_train, test_size=0.125, random_state=42, stratify=y_train) # 0.125 * 0.8 = 0.1"
   ]
  },
  {
   "cell_type": "code",
   "execution_count": 4,
   "metadata": {},
   "outputs": [],
   "source": [
    "train_df = pd.DataFrame()\n",
    "train_df['filename'] = X_train\n",
    "train_df['label'] = y_train\n",
    "train_df.to_csv(Path(data_path) / 'train.csv', index=False)\n",
    "\n",
    "val_df = pd.DataFrame()\n",
    "val_df['filename'] = X_val\n",
    "val_df['label'] = y_val\n",
    "val_df.to_csv(Path(data_path) / 'val.csv', index=False)\n",
    "\n",
    "test_df = pd.DataFrame()\n",
    "test_df['filename'] = X_test\n",
    "test_df['label'] = y_test\n",
    "test_df.to_csv(Path(data_path) / 'test.csv', index=False)"
   ]
  }
 ],
 "metadata": {
  "kernelspec": {
   "display_name": "venv",
   "language": "python",
   "name": "python3"
  },
  "language_info": {
   "codemirror_mode": {
    "name": "ipython",
    "version": 3
   },
   "file_extension": ".py",
   "mimetype": "text/x-python",
   "name": "python",
   "nbconvert_exporter": "python",
   "pygments_lexer": "ipython3",
   "version": "3.11.0rc1"
  }
 },
 "nbformat": 4,
 "nbformat_minor": 2
}
